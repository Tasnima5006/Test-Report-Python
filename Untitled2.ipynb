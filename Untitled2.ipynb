{
 "cells": [
  {
   "cell_type": "code",
   "execution_count": 6,
   "id": "566e96df-970f-41b4-86a2-0a130ca1f2f0",
   "metadata": {},
   "outputs": [
    {
     "name": "stdout",
     "output_type": "stream",
     "text": [
      "Mercury\n",
      "Venus\n",
      "Earth\n"
     ]
    }
   ],
   "source": [
    "planets = [ 'Mercury', 'Venus', 'Earth']\n",
    "for planet in planets:\n",
    "    print(planet)"
   ]
  },
  {
   "cell_type": "code",
   "execution_count": 3,
   "id": "7282f645-1ec6-464d-9011-d0f23911abee",
   "metadata": {},
   "outputs": [],
   "source": [
    "s = [ \"Mercury Venus Earth\"]\n",
    "for char in s:\n",
    "    if char.isupper():\n",
    "        print(char)"
   ]
  },
  {
   "cell_type": "code",
   "execution_count": 1,
   "id": "4ed471ba-984c-4ba6-b877-30d33d8185c8",
   "metadata": {},
   "outputs": [
    {
     "name": "stdout",
     "output_type": "stream",
     "text": [
      "doing important work= 0\n",
      "doing important work= 1\n",
      "doing important work= 2\n",
      "doing important work= 3\n",
      "doing important work= 4\n"
     ]
    }
   ],
   "source": [
    "for i in range(5):\n",
    "    print(\"doing important work=\",i)\n",
    "    \n"
   ]
  },
  {
   "cell_type": "code",
   "execution_count": 4,
   "id": "5da60c50-f6c6-48fd-b18a-94a6a584f8c6",
   "metadata": {},
   "outputs": [
    {
     "name": "stdout",
     "output_type": "stream",
     "text": [
      "0\n",
      "1\n",
      "2\n",
      "3\n",
      "4\n"
     ]
    }
   ],
   "source": [
    "i=0\n",
    "while i<5:\n",
    "    print(i)\n",
    "    i=i+1"
   ]
  },
  {
   "cell_type": "code",
   "execution_count": 15,
   "id": "f5a55a05-0a10-48a3-8c5c-3cf1a165f5ad",
   "metadata": {},
   "outputs": [
    {
     "name": "stdout",
     "output_type": "stream",
     "text": [
      "0\n",
      "1\n",
      "2\n",
      "3\n",
      "4\n",
      "5\n"
     ]
    }
   ],
   "source": [
    "i=0\n",
    "while i<=5:\n",
    "    print(i)\n",
    "    i=i+1"
   ]
  },
  {
   "cell_type": "code",
   "execution_count": 7,
   "id": "9f3876a2-04f5-472f-96d9-04bd5f05456b",
   "metadata": {},
   "outputs": [
    {
     "name": "stdout",
     "output_type": "stream",
     "text": [
      "[0, 1, 4, 9, 16]\n"
     ]
    }
   ],
   "source": [
    "squares = [ n**2 for n in range(5)]\n",
    "print(squares)"
   ]
  },
  {
   "cell_type": "code",
   "execution_count": 14,
   "id": "214fccce-d1db-43ee-8886-ee932562dfef",
   "metadata": {},
   "outputs": [
    {
     "name": "stdout",
     "output_type": "stream",
     "text": [
      "[0]\n",
      "[0, 1]\n",
      "[0, 1, 4]\n",
      "[0, 1, 4, 9]\n",
      "[0, 1, 4, 9, 16]\n"
     ]
    }
   ],
   "source": [
    "squares = [ ]\n",
    "for n in range(5) :\n",
    "    squares.append(n**2) \n",
    "print(squares)"
   ]
  },
  {
   "cell_type": "code",
   "execution_count": 17,
   "id": "b2a910e6-a8b8-4223-8b88-f66f9705ee7f",
   "metadata": {},
   "outputs": [
    {
     "name": "stdout",
     "output_type": "stream",
     "text": [
      "hello\n",
      " world\n"
     ]
    }
   ],
   "source": [
    "hello =\"hello\\n world\"\n",
    "print(hello)"
   ]
  },
  {
   "cell_type": "code",
   "execution_count": 20,
   "id": "8544e7d3-033b-493c-b66e-a4d35116a388",
   "metadata": {},
   "outputs": [
    {
     "data": {
      "text/plain": [
       "'luto'"
      ]
     },
     "execution_count": 20,
     "metadata": {},
     "output_type": "execute_result"
    }
   ],
   "source": [
    "planet='pluto'\n",
    "planet[1:]"
   ]
  },
  {
   "cell_type": "code",
   "execution_count": 21,
   "id": "59e5b313-6a7e-401d-a422-8fc334b720b3",
   "metadata": {},
   "outputs": [
    {
     "data": {
      "text/plain": [
       "'to'"
      ]
     },
     "execution_count": 21,
     "metadata": {},
     "output_type": "execute_result"
    }
   ],
   "source": [
    "planet[-2:]"
   ]
  },
  {
   "cell_type": "code",
   "execution_count": 22,
   "id": "f9104df4-1444-49a0-9a18-304c8449b9fc",
   "metadata": {},
   "outputs": [
    {
     "ename": "ValueError",
     "evalue": "substring not found",
     "output_type": "error",
     "traceback": [
      "\u001b[1;31m---------------------------------------------------------------------------\u001b[0m",
      "\u001b[1;31mValueError\u001b[0m                                Traceback (most recent call last)",
      "Cell \u001b[1;32mIn[22], line 2\u001b[0m\n\u001b[0;32m      1\u001b[0m claim\u001b[38;5;241m=\u001b[39m \u001b[38;5;124m'\u001b[39m\u001b[38;5;124mpluto is a planet!\u001b[39m\u001b[38;5;124m'\u001b[39m\n\u001b[1;32m----> 2\u001b[0m claim\u001b[38;5;241m.\u001b[39mindex(\u001b[38;5;124m'\u001b[39m\u001b[38;5;124mj\u001b[39m\u001b[38;5;124m'\u001b[39m)\n",
      "\u001b[1;31mValueError\u001b[0m: substring not found"
     ]
    }
   ],
   "source": [
    "claim= 'pluto is a planet!'\n",
    "claim.index('j')\n"
   ]
  },
  {
   "cell_type": "code",
   "execution_count": 24,
   "id": "7f94ebee-9a13-4fb0-b23b-6407403a6902",
   "metadata": {},
   "outputs": [
    {
     "name": "stdout",
     "output_type": "stream",
     "text": [
      "['pluto', 'is', 'a', 'planet!']\n"
     ]
    }
   ],
   "source": [
    "words= claim.split()\n",
    "print(words)\n"
   ]
  },
  {
   "cell_type": "code",
   "execution_count": 26,
   "id": "bf6b4442-aaa2-4ca4-94b5-07c76a7a6219",
   "metadata": {},
   "outputs": [
    {
     "name": "stdout",
     "output_type": "stream",
     "text": [
      "Year:1999 Month:09 Day:22\n"
     ]
    }
   ],
   "source": [
    "datestr = '1999-09-22'\n",
    "year,month,day = datestr.split('-')\n",
    "print(f\"Year:{year} Month:{month} Day:{day}\")"
   ]
  },
  {
   "cell_type": "code",
   "execution_count": 28,
   "id": "a3321655-78ff-4ec0-a208-002de7155c6c",
   "metadata": {},
   "outputs": [
    {
     "data": {
      "text/plain": [
       "'22/09/1999'"
      ]
     },
     "execution_count": 28,
     "metadata": {},
     "output_type": "execute_result"
    }
   ],
   "source": [
    "'/'.join([day,month,year])"
   ]
  },
  {
   "cell_type": "code",
   "execution_count": 33,
   "id": "0fcb55f4-1b71-4d03-9e03-6e8ac5d3452f",
   "metadata": {},
   "outputs": [
    {
     "data": {
      "text/plain": [
       "'16-02-01-5006'"
      ]
     },
     "execution_count": 33,
     "metadata": {},
     "output_type": "execute_result"
    }
   ],
   "source": [
    "divider='-'\n",
    "session= '16'\n",
    "semester='02'\n",
    "department='01'\n",
    "id = '5006'\n",
    "\n",
    "divider.join([session, semester, department, id])"
   ]
  },
  {
   "cell_type": "code",
   "execution_count": 35,
   "id": "25d5ab29-5301-4dc5-8e87-cef3bf13bd34",
   "metadata": {},
   "outputs": [
    {
     "name": "stdout",
     "output_type": "stream",
     "text": [
      "{'one': 1, 'two': 2, 'three': 2}\n"
     ]
    }
   ],
   "source": [
    "numbers= {'one':1, 'two':2,'three':2}\n",
    "print(numbers)"
   ]
  },
  {
   "cell_type": "code",
   "execution_count": 37,
   "id": "0b15b2a8-ac98-462a-b7fe-7df431e12fa9",
   "metadata": {},
   "outputs": [
    {
     "name": "stdout",
     "output_type": "stream",
     "text": [
      "{'one': 1, 'two': 2, 'three': 2, 'eleven': 11}\n"
     ]
    }
   ],
   "source": [
    "numbers['eleven'] = 11\n",
    "print(numbers)"
   ]
  },
  {
   "cell_type": "code",
   "execution_count": 39,
   "id": "3c8be51b-5c6b-46c3-8ad6-eb20ae4cddd6",
   "metadata": {},
   "outputs": [
    {
     "name": "stdout",
     "output_type": "stream",
     "text": [
      "one = 1\n",
      "two = 2\n",
      "three = 2\n",
      "eleven = 11\n"
     ]
    }
   ],
   "source": [
    "for k in numbers:\n",
    "    print(f\"{k} = {numbers[k]}\")"
   ]
  },
  {
   "cell_type": "code",
   "execution_count": 40,
   "id": "fb3ec121-f645-4a23-b381-b46774aa1590",
   "metadata": {},
   "outputs": [
    {
     "name": "stdout",
     "output_type": "stream",
     "text": [
      "dict_keys(['one', 'two', 'three', 'eleven'])\n",
      "dict_values([1, 2, 2, 11])\n"
     ]
    }
   ],
   "source": [
    "print(numbers.keys())\n",
    "print(numbers.values())\n"
   ]
  },
  {
   "cell_type": "code",
   "execution_count": 42,
   "id": "4fd338e6-3735-4f91-a2ab-6bd16046f5c1",
   "metadata": {},
   "outputs": [
    {
     "name": "stdout",
     "output_type": "stream",
     "text": [
      "It's a math! It has type <class 'module'>\n"
     ]
    }
   ],
   "source": [
    "import math\n",
    "print(f\"It's a math! It has type {type(math)}\")"
   ]
  },
  {
   "cell_type": "code",
   "execution_count": 43,
   "id": "afe813ec-bffb-48ea-ae62-367b0469aebe",
   "metadata": {},
   "outputs": [
    {
     "data": {
      "text/plain": [
       "3.141592653589793"
      ]
     },
     "execution_count": 43,
     "metadata": {},
     "output_type": "execute_result"
    }
   ],
   "source": [
    "import math as mt\n",
    "mt.pi"
   ]
  },
  {
   "cell_type": "code",
   "execution_count": 49,
   "id": "46226ad9-9c4e-48fb-bdf2-cf08f40285b4",
   "metadata": {},
   "outputs": [
    {
     "name": "stdout",
     "output_type": "stream",
     "text": [
      "3.141592653589793\n",
      "5.0\n"
     ]
    }
   ],
   "source": [
    "from math import *\n",
    "print(pi)\n",
    "print(log(32,2))"
   ]
  },
  {
   "cell_type": "code",
   "execution_count": null,
   "id": "7905bc40-8d8f-4e27-ae72-ab6a3b8f293a",
   "metadata": {},
   "outputs": [],
   "source": []
  }
 ],
 "metadata": {
  "kernelspec": {
   "display_name": "Python 3 (ipykernel)",
   "language": "python",
   "name": "python3"
  },
  "language_info": {
   "codemirror_mode": {
    "name": "ipython",
    "version": 3
   },
   "file_extension": ".py",
   "mimetype": "text/x-python",
   "name": "python",
   "nbconvert_exporter": "python",
   "pygments_lexer": "ipython3",
   "version": "3.12.7"
  }
 },
 "nbformat": 4,
 "nbformat_minor": 5
}

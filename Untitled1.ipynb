{
 "cells": [
  {
   "cell_type": "code",
   "execution_count": 3,
   "id": "f12fe56c-5f09-4679-9f65-e2e63d5bb5bd",
   "metadata": {},
   "outputs": [
    {
     "name": "stdout",
     "output_type": "stream",
     "text": [
      "['Sabrina', 'Samiha', 'tonoy', 'Mariam']\n"
     ]
    }
   ],
   "source": [
    "Students_list=[\"Sabrina\",\"Samiha\",\"tonoy\",\"Mariam\"]\n",
    "print(Students_list)"
   ]
  },
  {
   "cell_type": "code",
   "execution_count": 9,
   "id": "c1b0bf64-6594-450b-a35f-39a7aa6f2dfc",
   "metadata": {},
   "outputs": [
    {
     "name": "stdout",
     "output_type": "stream",
     "text": [
      "['stewed meat with onions', 'risotto with trout and shrimp', 'fish soup with cream and onion', 'gyro', 'rosted bet salad']\n"
     ]
    }
   ],
   "source": [
    "menu = ['stewed meat with onions', 'bean soup', 'risotto with trout and shrimp','fish soup with cream and onion','gyro']\n",
    "menu.remove('bean soup')\n",
    "menu.append('rosted bet salad')\n",
    "print(menu)"
   ]
  },
  {
   "cell_type": "code",
   "execution_count": 27,
   "id": "4790aef5-2489-41e2-82f6-ed5761a112a9",
   "metadata": {},
   "outputs": [
    {
     "name": "stdout",
     "output_type": "stream",
     "text": [
      "150.85714285714286\n",
      "490.0\n",
      "Minimum 126\n",
      "Maximum 174\n"
     ]
    }
   ],
   "source": [
    "num_customers = [137, 147, 135, 128,170,174,165,146,126,159, 141, 148, 132, 147, 168, 153, 170, 161, 148, 152, 141, 151, 131, 149, 164,163,143,143,166,171]\n",
    "avg_first_seven = sum(num_customers[:7])/len(num_customers[:7])\n",
    "print(avg_first_seven)\n",
    "\n",
    "avg_last_seven = sum(num_customers[:-7])/len(num_customers[:-7]))\n",
    "print(avg_last_seven)\n",
    "\n",
    "print(\"Minimum\",min(num_customers))\n",
    "print(\"Maximum\",max(num_customers))\n",
    "\n"
   ]
  },
  {
   "cell_type": "code",
   "execution_count": 29,
   "id": "1fd6b974-1cab-435d-8b22-b53a060dd801",
   "metadata": {},
   "outputs": [],
   "source": [
    "students=\"Sabrina,Samiha,Tonoy,Mariam\"\n",
    "my_list = students.split(\",\")\n",
    "print=(my_list)"
   ]
  },
  {
   "cell_type": "code",
   "execution_count": 3,
   "id": "a9c8ee1e-bb42-4a29-8b1f-6e4495372532",
   "metadata": {},
   "outputs": [
    {
     "name": "stdout",
     "output_type": "stream",
     "text": [
      "['A', 'B', 'C', 'D', 'E', 'F', 'G', 'H', 'I', 'J', 'K', 'L', 'M', 'N', 'O', 'P', 'Q', 'R', 'S', 'T', 'U', 'V', 'W', 'X', 'Y', 'Z']\n",
      "['Mr. H. Potter', ' The cupboard under the Stairs', ' 4 Privaet Drive ', 'Little Whining', ' Surrey']\n"
     ]
    }
   ],
   "source": [
    "alphabet = \"A.B.C.D.E.F.G.H.I.J.K.L.M.N.O.P.Q.R.S.T.U.V.W.X.Y.Z\"\n",
    "address = \"Mr. H. Potter, The cupboard under the Stairs, 4 Privaet Drive ,Little Whining, Surrey\"\n",
    "\n",
    "letters = alphabet.split(\".\")\n",
    "formatted_address = address.split(\",\")\n",
    "\n",
    "print(letters)\n",
    "# print(type(letters))\n",
    "print(formatted_address)"
   ]
  },
  {
   "cell_type": "code",
   "execution_count": 7,
   "id": "a58450d9-0ac8-4525-8102-2e29be396146",
   "metadata": {},
   "outputs": [
    {
     "name": "stdout",
     "output_type": "stream",
     "text": [
      "Growth percentage: 3.629533421163837\n",
      "Growth percentage: 66.15639847417742\n"
     ]
    }
   ],
   "source": [
    "def percentage_growth(num_users, yrs_ago):\n",
    "    previous_year_users = num_users[-1 - yrs_ago] \n",
    "    current_year_users = num_users[-1] \n",
    "    growth = ((current_year_users - previous_year_users) / previous_year_users)*100\n",
    "    return growth\n",
    "\n",
    "num_users = [920344, 1043553, 1204334, 1458996, 1503323, 1593432, 1623463, 1843064, 1930992, 2001078]\n",
    "yrs_ago = 1\n",
    "print(\"Growth percentage:\", percentage_growth(num_users, yrs_ago))\n",
    "\n",
    "yrs_ago = 7\n",
    "print(\"Growth percentage:\", percentage_growth(num_users, yrs_ago))\n",
    "\n"
   ]
  },
  {
   "cell_type": "code",
   "execution_count": null,
   "id": "824a7506-21ac-4867-b943-3243a4ac1b06",
   "metadata": {},
   "outputs": [],
   "source": []
  }
 ],
 "metadata": {
  "kernelspec": {
   "display_name": "Python 3 (ipykernel)",
   "language": "python",
   "name": "python3"
  },
  "language_info": {
   "codemirror_mode": {
    "name": "ipython",
    "version": 3
   },
   "file_extension": ".py",
   "mimetype": "text/x-python",
   "name": "python",
   "nbconvert_exporter": "python",
   "pygments_lexer": "ipython3",
   "version": "3.12.7"
  }
 },
 "nbformat": 4,
 "nbformat_minor": 5
}

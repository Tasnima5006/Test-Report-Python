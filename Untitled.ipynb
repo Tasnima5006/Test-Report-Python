{
 "cells": [
  {
   "cell_type": "code",
   "execution_count": 1,
   "id": "dba58d6c-b413-443a-9122-d09b481afcde",
   "metadata": {},
   "outputs": [],
   "source": [
    "def cost_of_project(engraving, solid_gold):\n",
    "    solid_gold = True\n",
    "    not_solid_gold = False\n",
    "    cost = solid_gold*(100+len(engraving)* 10)+ not_solid_gold*(50+len(engraving)*7)\n",
    "    return cost\n",
    "    "
   ]
  },
  {
   "cell_type": "code",
   "execution_count": 2,
   "id": "ef3b23e2-722f-4e6e-adf9-9c7132e1a905",
   "metadata": {},
   "outputs": [
    {
     "name": "stdout",
     "output_type": "stream",
     "text": [
      "150\n"
     ]
    }
   ],
   "source": [
    "project_one =cost_of_project(\"Tonoy\",True)\n",
    "print(project_one)"
   ]
  },
  {
   "cell_type": "code",
   "execution_count": 20,
   "id": "2e5774a4-6819-4820-b9cb-7d6d3c6b1948",
   "metadata": {},
   "outputs": [],
   "source": [
    "def cost_of_project(engraving, solid_gold):\n",
    "    solid_gold = False\n",
    "    not_solid_gold = True\n",
    "    cost = solid_gold*(100+len(engraving)* 10)+ not_solid_gold*(50+len(engraving)*7)\n",
    "    return cost"
   ]
  },
  {
   "cell_type": "code",
   "execution_count": 21,
   "id": "b5d491db-e35d-44fb-9717-8911c1c5f8c9",
   "metadata": {},
   "outputs": [
    {
     "name": "stdout",
     "output_type": "stream",
     "text": [
      "85\n"
     ]
    }
   ],
   "source": [
    "project_one =cost_of_project(\"Tonoy\",False)\n",
    "print(project_one)"
   ]
  },
  {
   "cell_type": "code",
   "execution_count": 22,
   "id": "d9607359-2c41-44a1-b33d-cad5cf5ce292",
   "metadata": {},
   "outputs": [
    {
     "name": "stdout",
     "output_type": "stream",
     "text": [
      "You've got A+\n"
     ]
    }
   ],
   "source": [
    "print(\"You've got \")"
   ]
  },
  {
   "cell_type": "code",
   "execution_count": 25,
   "id": "4e26b294-5fe9-4fd4-ac01-97d4b1634cbe",
   "metadata": {},
   "outputs": [
    {
     "name": "stdout",
     "output_type": "stream",
     "text": [
      "You've got A+\n"
     ]
    }
   ],
   "source": [
    "marks = 82\n",
    "if marks >= 80:\n",
    "    print(\"You've got A+\")\n"
   ]
  },
  {
   "cell_type": "code",
   "execution_count": 26,
   "id": "d2c698b4-f6b2-4ddc-91dc-79af504db772",
   "metadata": {},
   "outputs": [
    {
     "name": "stdout",
     "output_type": "stream",
     "text": [
      "You've got A\n"
     ]
    }
   ],
   "source": [
    "marks = 79\n",
    "if marks >= 80:\n",
    "    print(\"You've got A+\")\n",
    "else:\n",
    "    print(\"You've got A\")"
   ]
  },
  {
   "cell_type": "code",
   "execution_count": 28,
   "id": "d8e6a821-5c0e-47c5-94b5-1cd7053c8e54",
   "metadata": {},
   "outputs": [
    {
     "name": "stdout",
     "output_type": "stream",
     "text": [
      "You've got F\n"
     ]
    }
   ],
   "source": [
    "marks = 30\n",
    "if marks >= 80:\n",
    "    print(\"You've got A+\")\n",
    "elif marks >= 75:\n",
    "    print(\"You've got A\")\n",
    "else:\n",
    "    print(\"You've got F\")"
   ]
  },
  {
   "cell_type": "code",
   "execution_count": 35,
   "id": "74fe2d7e-7ca0-4ca0-9e84-a663b60a527d",
   "metadata": {},
   "outputs": [
    {
     "name": "stdout",
     "output_type": "stream",
     "text": [
      "You've got B-\n"
     ]
    }
   ],
   "source": [
    "marks = 55\n",
    "if marks >= 80:\n",
    "    print(\"You've got A+\")\n",
    "elif marks >= 75:\n",
    "    print(\"You've got A\")\n",
    "elif marks >= 70:\n",
    "    print(\"You've got A-\")\n",
    "elif marks >= 65:\n",
    "    print(\"You've got B+\")\n",
    "elif marks >= 60:\n",
    "    print(\"You've got B\")\n",
    "elif marks >= 55:\n",
    "    print(\"You've got B-\")\n",
    "elif marks >= 50:\n",
    "    print(\"You've got C+\")\n",
    "elif marks >= 45:\n",
    "    print(\"You've got C\")\n",
    "elif marks >= 40:\n",
    "    print(\"You've got D\")\n",
    "else:\n",
    "    print(\"You've got F\")\n",
    "    \n",
    "    \n",
    "    \n",
    "    "
   ]
  },
  {
   "cell_type": "code",
   "execution_count": 38,
   "id": "e9dfadc3-a7ad-4cfb-95cb-dfa0ceff3fe0",
   "metadata": {},
   "outputs": [
    {
     "name": "stdout",
     "output_type": "stream",
     "text": [
      "Invalid\n"
     ]
    }
   ],
   "source": [
    "marks = 550\n",
    "if (marks >= 80) and (marks <=100):\n",
    "    print(\"You've got A+\")\n",
    "elif (marks >= 75) and (marks <=79):\n",
    "    print(\"You've got A\")\n",
    "elif (marks >= 70) and (marks <=74):\n",
    "    print(\"You've got A-\")\n",
    "elif (marks >= 65) and (marks <=69):\n",
    "    print(\"You've got B+\")\n",
    "elif (marks >= 60) and (marks <=64):\n",
    "    print(\"You've got B\")\n",
    "elif (marks >= 55) and (marks <=59):\n",
    "    print(\"You've got B-\")\n",
    "elif (marks >= 50) and (marks <=54):\n",
    "    print(\"You've got C+\")\n",
    "elif (marks >= 45) and (marks <=49):\n",
    "    print(\"You've got C\")\n",
    "elif (marks >= 40) and (marks <=44):\n",
    "    print(\"You've got D\")\n",
    "elif (marks <40) and (marks >39):\n",
    "    print(\"You've got F\")\n",
    "else:\n",
    "        print(\"Invalid\")\n",
    "    "
   ]
  },
  {
   "cell_type": "code",
   "execution_count": 57,
   "id": "20398a4d-b4a7-438d-9430-15e66d5e003e",
   "metadata": {},
   "outputs": [],
   "source": [
    "def cost_of_project(engraving, solid_gold):\n",
    "    if solid_gold == True:\n",
    "        cost = solid_gold*(100+len(engraving)* 10)\n",
    "    else:\n",
    "        cost = (50+len(engraving)*7)\n",
    "    return cost \n",
    "        "
   ]
  },
  {
   "cell_type": "code",
   "execution_count": 54,
   "id": "d97a8fdf-ff26-426a-9f66-22d64377df34",
   "metadata": {},
   "outputs": [
    {
     "name": "stdout",
     "output_type": "stream",
     "text": [
      "150\n"
     ]
    }
   ],
   "source": [
    "project_one = cost_of_project(\"tonoy\", True)\n",
    "print(project_one)"
   ]
  },
  {
   "cell_type": "code",
   "execution_count": 67,
   "id": "0ddac405-d99f-44b5-942b-58f77c096d6b",
   "metadata": {},
   "outputs": [],
   "source": [
    "def get_water_bill(num_gallons):\n",
    "    if num_gallons <=8000:\n",
    "        cost = ((num_gallons/1000)*5)\n",
    "    elif num_gallons >= 22000:\n",
    "        cost = ((num_gallons/1000)*6)\n",
    "    elif num_gallons >= 30000:\n",
    "        cost = ((num_gallons/1000) * 7)\n",
    "    else:\n",
    "        cost = (num_gallons/1000)*10\n",
    "    return cost\n",
    "        "
   ]
  },
  {
   "cell_type": "code",
   "execution_count": 68,
   "id": "2c4def6b-6107-4d05-8451-61482e75b86a",
   "metadata": {},
   "outputs": [
    {
     "name": "stdout",
     "output_type": "stream",
     "text": [
      "360.0\n"
     ]
    }
   ],
   "source": [
    "cost = get_water_bill(60000)\n",
    "print(cost)"
   ]
  },
  {
   "cell_type": "code",
   "execution_count": 3,
   "id": "ae52797b-df37-4cb3-9e2d-423b5e7bf72f",
   "metadata": {},
   "outputs": [
    {
     "name": "stdout",
     "output_type": "stream",
     "text": [
      "You've got A+\n"
     ]
    }
   ],
   "source": [
    "marks = 550\n",
    "if (marks >= 80) or (marks <=100):\n",
    "    print(\"You've got A+\")\n",
    "elif (marks >= 75) or (marks <=79):\n",
    "    print(\"You've got A\")\n",
    "elif (marks >= 70) or (marks <=74):\n",
    "    print(\"You've got A-\")\n",
    "elif (marks >= 65) or (marks <=69):\n",
    "    print(\"You've got B+\")\n",
    "elif (marks >= 60) or (marks <=64):\n",
    "    print(\"You've got B\")\n",
    "elif (marks >= 55) or (marks <=59):\n",
    "    print(\"You've got B-\")\n",
    "elif (marks >= 50) or (marks <=54):\n",
    "    print(\"You've got C+\")\n",
    "elif (marks >= 45) or (marks <=49):\n",
    "    print(\"You've got C\")\n",
    "elif (marks >= 40) or (marks <=44):\n",
    "    print(\"You've got D\")\n",
    "elif (marks <40) or (marks >39):\n",
    "    print(\"You've got F\")\n",
    "else:\n",
    "        print(\"Invalid\")"
   ]
  },
  {
   "cell_type": "code",
   "execution_count": null,
   "id": "ab838695-3a9f-48ae-840a-f3383d1be4ed",
   "metadata": {},
   "outputs": [],
   "source": []
  }
 ],
 "metadata": {
  "kernelspec": {
   "display_name": "Python 3 (ipykernel)",
   "language": "python",
   "name": "python3"
  },
  "language_info": {
   "codemirror_mode": {
    "name": "ipython",
    "version": 3
   },
   "file_extension": ".py",
   "mimetype": "text/x-python",
   "name": "python",
   "nbconvert_exporter": "python",
   "pygments_lexer": "ipython3",
   "version": "3.12.7"
  }
 },
 "nbformat": 4,
 "nbformat_minor": 5
}
